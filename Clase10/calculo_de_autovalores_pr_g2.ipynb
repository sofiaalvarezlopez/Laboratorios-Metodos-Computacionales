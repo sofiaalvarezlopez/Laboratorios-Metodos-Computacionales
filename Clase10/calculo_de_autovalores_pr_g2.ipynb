{
 "cells": [
  {
   "cell_type": "markdown",
   "metadata": {
    "id": "RdMsHs7qIA9V"
   },
   "source": [
    "# Maria Sofia Alvarez Lopez"
   ]
  },
  {
   "cell_type": "code",
   "execution_count": 1,
   "metadata": {},
   "outputs": [],
   "source": [
    "import numpy as np"
   ]
  },
  {
   "cell_type": "markdown",
   "metadata": {
    "id": "FvlRAwoosq7c"
   },
   "source": [
    "## Eliminación gaussiana con pivoteo parcial\n"
   ]
  },
  {
   "cell_type": "code",
   "execution_count": 2,
   "metadata": {
    "id": "3PrZ2ku8swlQ"
   },
   "outputs": [],
   "source": [
    "def triangular_superior(A):\n",
    "    B = A.copy().astype(float)\n",
    "    n = B.shape[0]\n",
    "    for i in range(n):\n",
    "        indi_max = np.argmax(np.abs(B[i:, i]))\n",
    "        if indi_max > 0:\n",
    "            C = B[i].copy()\n",
    "            B[i] = B[i + indi_max]\n",
    "            B[i + indi_max] = C\n",
    "        for j in range(i+1, n):\n",
    "            B[j] = (B[j, i]/B[i, i]) * B[i] - B[j]\n",
    "    return B\n",
    "\n",
    "def matriz_diagonal(A_t):\n",
    "    B = A_t.copy().astype(float)\n",
    "    n = B.shape[0]\n",
    "    for i in range(n-1, -1, -1):\n",
    "        for j in range(i-1, -1, -1):\n",
    "            B[j] = (B[j, i]/B[i, i]) * B[i] - B[j]\n",
    "        B[i] = B[i] / B[i, i]\n",
    "    return B"
   ]
  },
  {
   "cell_type": "markdown",
   "metadata": {
    "id": "YDcZVzBAqrsD"
   },
   "source": [
    "## Inversión de matrices usando eliminación gaussiana\n",
    "\n",
    "Dada una matriz $A$ es posible encontrar su inversa haciendo eliminación gaussiana sobre la matriz $A$ y copiando cada operación sobre la matriz identidad.\n",
    "\n",
    "Ejemplo: Encontrar la inversa de $A$\n",
    "\n",
    "\\begin{equation}A=   \\left (\n",
    "      \\begin{array}{rrr}\n",
    "          2 &  1 &  3  \\\\\n",
    "         -1 &  2 &  4 \\\\\n",
    "          0 &  1 &  3 \n",
    "      \\end{array}\n",
    "   \\right )\\end{equation}\n",
    "\n",
    "   \\begin{equation}\\left (\n",
    "      \\begin{array}{rrr:rrr}\n",
    "          2 &  1 &  3 & 1 & 0 & 0 \\\\\n",
    "         -1 &  2 &  4 & 0 & 1 & 0\\\\\n",
    "          0 &  1 &  3 & 0 & 0 & 1\n",
    "      \\end{array}\n",
    "   \\right )\\end{equation}"
   ]
  },
  {
   "cell_type": "code",
   "execution_count": 3,
   "metadata": {
    "id": "kViDfnQhqtvN"
   },
   "outputs": [
    {
     "name": "stdout",
     "output_type": "stream",
     "text": [
      "[[ 0.5   0.   -0.5 ]\n",
      " [ 0.75  1.5  -2.75]\n",
      " [-0.25 -0.5   1.25]]\n",
      "Comprobar inversa\n",
      "[[1. 0. 0.]\n",
      " [0. 1. 0.]\n",
      " [0. 0. 1.]]\n"
     ]
    }
   ],
   "source": [
    "A = np.array([\n",
    "    [ 2, 1, 3],\n",
    "    [-1, 2, 4],\n",
    "    [ 0, 1, 3],\n",
    "]).astype(float)\n",
    "\n",
    "def matriz_inversa(A):\n",
    "    M_identidad = np.identity(A.shape[0])\n",
    "    B = np.concatenate((A, M_identidad), axis=1)\n",
    "    B_t = triangular_superior(B)\n",
    "    D = matriz_diagonal(B_t)\n",
    "    return D[:, A.shape[0]:]\n",
    "\n",
    "inversa_A = matriz_inversa(A)\n",
    "print(inversa_A)\n",
    "print('Comprobar inversa')\n",
    "print(np.round(inversa_A @ A, 14))"
   ]
  },
  {
   "cell_type": "markdown",
   "metadata": {
    "id": "vpjRRe9IiYZh"
   },
   "source": [
    "## Cálculo de determinantes\n",
    "\n",
    "llamemos $B$ a la matriz que resulta al realizar eliminación gaussiana sobre la matriz $A$, obteniendo una matriz triangular superior.\n",
    "\n",
    "Recordemos que \n",
    "\n",
    "* Intercambiar dos filas multiplica el determinante por -1\n",
    "* Multiplicar una fila por un escalar distinto de cero multiplica el determinante por el mismo escalar\n",
    "* Agregar a una fila un múltiplo escalar de otra no cambia el determinante.\n",
    "\n",
    "Si $d$ el producto de los escalares por los que se multiplica al determinante, utilizando las reglas anteriores. Entonces el determinante de A es el cociente por d del producto de los elementos de la diagonal de B.\n",
    "\n",
    "$$\\det(A) = \\frac{\\prod\\operatorname{diag}(B)}{d}$$\n"
   ]
  },
  {
   "cell_type": "code",
   "execution_count": 4,
   "metadata": {
    "id": "-NwH9xpqpCXv"
   },
   "outputs": [],
   "source": [
    "def triangular_superior(A):\n",
    "    B = A.copy().astype(float)\n",
    "    n = B.shape[0]\n",
    "    d= 1\n",
    "    for i in range(n):\n",
    "        indi_max = np.argmax(np.abs(B[i:, i]))\n",
    "        if indi_max > 0:\n",
    "            C = B[i].copy()\n",
    "            B[i] = B[i + indi_max]\n",
    "            B[i + indi_max] = C\n",
    "            d *= -1\n",
    "        for j in range(i+1, n):\n",
    "            B[j] = (B[j, i]/B[i, i]) * B[i] - B[j]\n",
    "    return B, d\n",
    "\n",
    "def determinante(A):\n",
    "    B, d = triangular_superior(A)\n",
    "    return np.prod(np.diag(B))/d"
   ]
  },
  {
   "cell_type": "code",
   "execution_count": 5,
   "metadata": {
    "id": "CEw7vdopiXdK"
   },
   "outputs": [
    {
     "name": "stdout",
     "output_type": "stream",
     "text": [
      "Determinante con nuestro metodo: 0.014608282075695384\n",
      "Determinante con numpy:          0.014608282075695339\n"
     ]
    }
   ],
   "source": [
    "A = np.random.rand(20,20)\n",
    "print('Determinante con nuestro metodo:', determinante(A))\n",
    "print('Determinante con numpy:         ', np.linalg.det(A))\n"
   ]
  },
  {
   "cell_type": "markdown",
   "metadata": {
    "id": "8dtnr6u57XB1"
   },
   "source": [
    "## Valores propios de una matriz\n",
    "\n",
    "Dada una matriz $A$ diagonalizable de tamaño $n \\times n$ sus valores propios se corresponden con las raíces del polinomio característico de $A$ que es\n",
    "\n",
    "$$P(z) = \\det(zI - A) = 0$$\n",
    "\n",
    "\n",
    "## Método de las potencias\n",
    "\n",
    "Permite conocer el valor propio mayor (en valor absoluto) de una matriz $A$ diagonalizable de tamaño $n \\times n$. El método parte de algún vector $v_0$ que puede ser aleatorio y calcula iterativamente\n",
    "\n",
    "$$v_{k+1} = \\frac{Av_k}{\\|Av_k\\|}$$\n",
    "\n",
    "Entonces $v_k$ converge normalmente al autovector de mayor autovalor.\n",
    "\n",
    "Se asume que $A$ tiene un valor propio que es estrictamente mayor en magnitud que sus otros valores propios y el vector inicial $v_0$ tiene un componente distinto de cero en la dirección de un autovector asociado con el autovalor dominante.\n",
    "La aproximación al valor propio dominante $\\mu_k$ se puede calcular a partir del vector propio como\n",
    "$$\\mu_{k} = \\frac{v_{k}^{\\intercal}Av_{k}}{v_{k}^{\\intercal}v_{k}}$$\n",
    "\n",
    "\n",
    "\n",
    "**Ejemplo:** Encontrar el vector propio de mayor valor propio de:\n",
    "\n",
    "\\begin{equation}A = \n",
    "\\left[\\begin{matrix}\n",
    "1 & 2 & 3\\\\\n",
    "1 & 2 & 1\\\\\n",
    "3 & 2 & 1\\\\\n",
    "\\end{matrix}\\right]\\end{equation}\n"
   ]
  },
  {
   "cell_type": "code",
   "execution_count": 6,
   "metadata": {
    "id": "Q4A21gU_7U0d"
   },
   "outputs": [],
   "source": [
    "def norm(v):\n",
    "    return np.sqrt(v @ v)\n",
    "\n",
    "def metodo_de_potencias(A, v0, iteraciones:int):\n",
    "    Av0 = A @ v0\n",
    "    v = Av0/norm(Av0)\n",
    "    if iteraciones == 1:\n",
    "        return v\n",
    "    return metodo_de_potencias(A, v, iteraciones-1)\n",
    "\n",
    "def valor_propio(A, v_prop):\n",
    "    return (v_prop.T @ A @ v_prop)/(v_prop.T @ v_prop)"
   ]
  },
  {
   "cell_type": "code",
   "execution_count": 7,
   "metadata": {
    "id": "1IR-twCf7Vgt"
   },
   "outputs": [
    {
     "name": "stdout",
     "output_type": "stream",
     "text": [
      "vector propio: [0.64793617 0.40044657 0.64793616]\n",
      "valor propio principal: 5.23606797749979\n"
     ]
    }
   ],
   "source": [
    "A = np.array([\n",
    "    [ 1, 2, 3],\n",
    "    [ 1, 2, 1],\n",
    "    [ 3, 2, 1],\n",
    "]).astype(float)\n",
    "\n",
    "v0 = np.array([1,0,0])\n",
    "iteraciones = 20\n",
    "v_prop = metodo_de_potencias(A, v0, iteraciones)\n",
    "print('vector propio:', v_prop)\n",
    "\n",
    "mu = valor_propio(A, v_prop)\n",
    "print('valor propio principal:', mu)"
   ]
  },
  {
   "cell_type": "markdown",
   "metadata": {
    "id": "0d6bm1w97WE8"
   },
   "source": [
    "## Algoritmo $QR$\n",
    "Es un procedimiento para calcular los valores propios de una matriz. La idea básica es realizar una descomposición $QR$, escribiendo la matriz como un producto de una matriz ortogonal y una matriz triangular superior, multiplicar los factores en el orden inverso e iterar.\n",
    "\n",
    "El algoritmo $QR$ consiste en  multiplicar los factores $Q$ y $R$ en el orden inverso para obtener $A_0$ que es el resultado de la primera iteración\n",
    "\n",
    "$$A_0 = R_0 Q_0$$\n",
    "En general\n",
    "$$A_{k+1} = R_k Q_k$$\n",
    "Se puede sustituir a $R_k$ haciendo\n",
    "\n",
    "$$A_{k+1} = R_k Q_k = Q_k^{-1} Q_k R_k Q_k = Q_k^{-1} A_k Q_k $$\n",
    "\n",
    "$$A_{k+1} = Q_k^{\\mathsf{T}} A_k Q_k$$\n",
    "\n",
    "Al iterar múltiples veces, los valores en la diagonal de $A_k$ se aproximan a los valores propios de $A$.\n",
    "\n",
    "## Descomposición $QR$\n",
    "\n",
    "Consiste en una factorización de una matriz $A$ en un producto $A  =  QR$ de una matriz ortogonal $Q$ y una matriz triangular superior $R$. Existen varios métodos para calcular la descomposición $QR$, como por medio del proceso de Gram-Schmidt, transformaciones de Householder o rotaciones de Givens. Se explica a continuación el proceso de Gram-Schmidt. Podemos nombrar a las columnas de $A$ y $Q$ así:\n",
    "\n",
    "\\begin{equation}A = \n",
    "\\left(\\begin{matrix}\n",
    "| & | &  & |\\\\\n",
    "a_0 & a_1 & \\cdots & a_{n-1}\\\\\n",
    "| & | &  & |\\\\\n",
    "\\end{matrix}\\right)\\,\\,\\,\\,\\,\\,\\,\\,\\,\\,Q = \n",
    "\\left(\\begin{matrix}\n",
    "| & | &  & |\\\\\n",
    "q_0 & q_1 & \\cdots & q_{n-1}\\\\\n",
    "| & | &  & |\\\\\n",
    "\\end{matrix}\\right)\\end{equation}\n",
    "donde\n",
    "\n",
    "\n",
    "\\begin{align}\n",
    "  q_0 = {} &\\frac{a_0}{||a_0||} \\\\\n",
    "  q_1 ={} & \\frac{a_1^{\\perp}}{||a_1^{\\perp}||} \\,\\,\\,\\,\\,\\,\\,\\,\\,\\,\\,\\,\\,\\,   a_1^{\\perp} = {} a_1 - \\left \\langle a_1, q_0  \\right \\rangle q_0 \\\\\n",
    "  q_2 ={} & \\frac{a_2^{\\perp}}{||a_2^{\\perp}||} \\,\\,\\,\\,\\,\\,\\,\\,\\,\\,\\,\\,\\,\\,   a_2^{\\perp} = {} a_2 - \\left \\langle a_2, q_0  \\right \\rangle q_0 - \\left \\langle a_2, q_1  \\right \\rangle q_1\\\\\n",
    "  & \\vdots \\\\\n",
    "  q_j ={} & \\frac{a_j^{\\perp}}{||a_j^{\\perp}||} \\,\\,\\,\\,\\,\\,\\,\\,\\,\\,\\,\\,\\,\\,   a_j^{\\perp} = {} a_{j} - \\sum_{i = 0}^{j-1}\\left \\langle a_j, q_i  \\right \\rangle q_i\n",
    "\\end{align}\n",
    "\n",
    "\n",
    "\n",
    "\n",
    "\n",
    "\n"
   ]
  },
  {
   "cell_type": "code",
   "execution_count": 8,
   "metadata": {
    "id": "tz2JCpTKjTd-"
   },
   "outputs": [],
   "source": [
    "def calcula_qj(Q, aj, j, n):\n",
    "    suma = np.zeros(n)\n",
    "    for i in range(j):\n",
    "        suma += (aj @ Q[:, i])*Q[:, i]\n",
    "    aj_o = aj - suma\n",
    "    return aj_o/norm(aj_o)\n",
    "\n",
    "def calcula_Q(A):\n",
    "    n = A.shape[0]\n",
    "    Q = np.zeros(A.shape)\n",
    "    Q[:,0] = A[:,0]/norm(A[:,0])\n",
    "    for j in range(1,n):\n",
    "        Q[:,j] = calcula_qj(Q, A[:, j], j, n)\n",
    "    return Q\n",
    "\n",
    "def algoritmo_QR(A, iteraciones):\n",
    "    Ak = A.copy()\n",
    "    for k in range(iteraciones):\n",
    "        Qk = calcula_Q(Ak)\n",
    "        Ak = Qk.T @ Ak @ Qk\n",
    "    print(Ak)\n",
    "    return np.diag(Ak)"
   ]
  },
  {
   "cell_type": "code",
   "execution_count": 9,
   "metadata": {
    "id": "3n2EZrshHkfw"
   },
   "outputs": [
    {
     "name": "stdout",
     "output_type": "stream",
     "text": [
      "[[ 5.23606798e+00  3.98388028e-10 -1.41421356e+00]\n",
      " [ 3.25585612e-10 -2.00000000e+00 -2.05918264e-10]\n",
      " [ 6.88984549e-16 -1.42286130e-10  7.63932023e-01]]\n",
      "valores propios nuestros: [ 5.23606798 -2.          0.76393202]\n",
      "valores propios numpy:    [ 5.23606798 -2.          0.76393202]\n"
     ]
    }
   ],
   "source": [
    "A = np.array([\n",
    "    [ 1, 2, 3],\n",
    "    [ 1, 2, 1],\n",
    "    [ 3, 2, 1],\n",
    "]).astype(float)\n",
    "\n",
    "vals_cal = algoritmo_QR(A, 25)\n",
    "print('valores propios nuestros:', vals_cal)\n",
    "vals=np.linalg.eigvals(A)\n",
    "print('valores propios numpy:   ', vals)"
   ]
  }
 ],
 "metadata": {
  "colab": {
   "collapsed_sections": [],
   "name": "calculo_de_autovalores_pr_g2.ipynb",
   "provenance": []
  },
  "kernelspec": {
   "display_name": "Python 3",
   "language": "python",
   "name": "python3"
  },
  "language_info": {
   "codemirror_mode": {
    "name": "ipython",
    "version": 3
   },
   "file_extension": ".py",
   "mimetype": "text/x-python",
   "name": "python",
   "nbconvert_exporter": "python",
   "pygments_lexer": "ipython3",
   "version": "3.8.3"
  }
 },
 "nbformat": 4,
 "nbformat_minor": 1
}
