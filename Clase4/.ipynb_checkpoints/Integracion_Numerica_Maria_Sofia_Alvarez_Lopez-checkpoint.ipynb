{
 "cells": [
  {
   "cell_type": "markdown",
   "metadata": {
    "colab": {},
    "colab_type": "code",
    "id": "pHqDbzhEK6yR"
   },
   "source": [
    "<h3>María Sofía Álvarez López - 201729031</h3>"
   ]
  },
  {
   "cell_type": "code",
   "execution_count": 1,
   "metadata": {},
   "outputs": [],
   "source": [
    "import numpy as np\n",
    "import sympy as sp"
   ]
  },
  {
   "cell_type": "markdown",
   "metadata": {
    "colab_type": "text",
    "id": "bhBxoHYtt3Ut"
   },
   "source": [
    "## Método del rectángulo\n",
    "\n",
    "$$\\int_a^b f(x) \\, dx\\approx \n",
    "h\\sum_{j=0}^{n-1}f(x_j)\n",
    "$$\n",
    "\n",
    "*   $n$ es el número de rectángulos. \n",
    "*   $h$ es el tamaño de cada partición: $(b-a)/n$. \n",
    "*   $x_j=a+jh$. \n",
    "*   Un nodo será cada punto donde se evalue la función (ver código a continuación)."
   ]
  },
  {
   "cell_type": "code",
   "execution_count": 2,
   "metadata": {
    "colab": {},
    "colab_type": "code",
    "id": "4KyGKDIlt26g"
   },
   "outputs": [
    {
     "data": {
      "text/plain": [
       "285.0"
      ]
     },
     "execution_count": 2,
     "metadata": {},
     "output_type": "execute_result"
    }
   ],
   "source": [
    "x_ini = 0\n",
    "x_fin = 10\n",
    "nodos = 11\n",
    "\n",
    "def f(x):\n",
    "    return x**2\n",
    "\n",
    "def rect_left_integrate(f, x_ini, x_fin, nodos):\n",
    "    #Va hasta n-1, el ultimo nodo no lo considero\n",
    "    x, h = np.linspace(x_ini, x_fin, num=nodos-1, retstep=True, endpoint=False)\n",
    "    return h*np.sum(f(x))\n",
    "\n",
    "rect_left_integrate(f, x_ini, x_fin, nodos)"
   ]
  },
  {
   "cell_type": "markdown",
   "metadata": {
    "colab_type": "text",
    "id": "dla45Aost1CI"
   },
   "source": [
    "## Método del rectángulo centrado\n",
    "\n",
    "$$\\int_a^b f(x) \\, dx\\approx \n",
    "h\\sum_{j=0}^{n-1}f\\left( \\frac{x_j+x_{j+1}}{2} \\right)\n",
    "$$"
   ]
  },
  {
   "cell_type": "code",
   "execution_count": 3,
   "metadata": {
    "colab": {},
    "colab_type": "code",
    "id": "-GkCQDY2t0kC"
   },
   "outputs": [
    {
     "data": {
      "text/plain": [
       "332.5"
      ]
     },
     "execution_count": 3,
     "metadata": {},
     "output_type": "execute_result"
    }
   ],
   "source": [
    "def rect_center_integrate(f, x_ini, x_fin, nodos):\n",
    "    #Va hasta n-1, el ultimo nodo no lo considero\n",
    "    x, h = np.linspace(x_ini, x_fin, num=nodos-1, retstep=True, endpoint=False)\n",
    "    x = x + 0.5*h\n",
    "    return h*np.sum(f(x))\n",
    "\n",
    "rect_center_integrate(f, x_ini, x_fin, nodos)"
   ]
  },
  {
   "cell_type": "markdown",
   "metadata": {
    "colab_type": "text",
    "id": "hiUDmYcbtzQq"
   },
   "source": [
    "## Método del trapecio\n",
    "\n",
    "$$\\int_a^b f(x) \\, dx\\approx \n",
    "\\frac{h}{2}\\left(f(x_0)+f(x_n)\\right)+h\\sum_{j=1}^{n-1}f(x_j)\n",
    "$$"
   ]
  },
  {
   "cell_type": "code",
   "execution_count": 4,
   "metadata": {
    "colab": {},
    "colab_type": "code",
    "id": "r-Nk6OCFtysR"
   },
   "outputs": [
    {
     "data": {
      "text/plain": [
       "335.0"
      ]
     },
     "execution_count": 4,
     "metadata": {},
     "output_type": "execute_result"
    }
   ],
   "source": [
    "def trap_integrate(f, x_ini, x_fin, nodos):\n",
    "    #Aqui si necesito y uso todos los nodos\n",
    "    x, h = np.linspace(x_ini, x_fin, num=nodos, retstep=True)\n",
    "    return 0.5*h*(f(x[0]) + f(x[-1])) + h*np.sum(f(x[1:-1]))\n",
    "\n",
    "trap_integrate(f, x_ini, x_fin, nodos)"
   ]
  },
  {
   "cell_type": "markdown",
   "metadata": {
    "colab_type": "text",
    "id": "yjJ_bR9pXBWD"
   },
   "source": [
    "## Método de Simpson 1/3 compuesta!\n",
    "\n",
    "$$\\int_a^b f(x) \\, dx\\approx \n",
    "\\frac{h}{3}\\bigg[f(x_0)+2\\sum_{j=1}^{n-1}f(x_{2j})+\n",
    "4\\sum_{j=1}^{n}f(x_{2j-1})+f(x_n)\n",
    "\\bigg]$$\n",
    "\n",
    "Se exije que $n$ sea par."
   ]
  },
  {
   "cell_type": "code",
   "execution_count": 5,
   "metadata": {
    "colab": {},
    "colab_type": "code",
    "id": "W3mah6jpYVLl"
   },
   "outputs": [
    {
     "data": {
      "text/plain": [
       "333.3333333333333"
      ]
     },
     "execution_count": 5,
     "metadata": {},
     "output_type": "execute_result"
    }
   ],
   "source": [
    "def simpson_integrate(f, x_ini, x_fin, nodos):\n",
    "    x, h = np.linspace(x_ini, x_fin, num=nodos, retstep=True)\n",
    "    return (h/3)*(f(x[0]) + f(x[-1]) + 2*np.sum(f(x[2:-1:2])) + 4*np.sum(f(x[1:-1:2]))) \n",
    "\n",
    "simpson_integrate(f, x_ini, x_fin, nodos)"
   ]
  },
  {
   "cell_type": "markdown",
   "metadata": {
    "colab_type": "text",
    "id": "2CcyoNgKXqak"
   },
   "source": [
    "## Cuadratura de Gauss-Legendre\n",
    "\n",
    "$$\\int_{-1}^1 f(x)\\,dx \\approx \\sum_{i=1}^n w_i f(x_i)$$\n"
   ]
  },
  {
   "cell_type": "code",
   "execution_count": 6,
   "metadata": {
    "colab": {},
    "colab_type": "code",
    "id": "Nn4sfaqofwaB"
   },
   "outputs": [
    {
     "data": {
      "text/plain": [
       "0.6666666666666666"
      ]
     },
     "execution_count": 6,
     "metadata": {},
     "output_type": "execute_result"
    }
   ],
   "source": [
    "X = np.array([-np.sqrt(1/3), np.sqrt(1/3)])\n",
    "W = np.array([1,1])\n",
    "\n",
    "def gauss_legendre_integrate(f,X,W):\n",
    "    return np.sum(W*f(X))\n",
    "\n",
    "gauss_legendre_integrate(f,X,W)"
   ]
  },
  {
   "cell_type": "markdown",
   "metadata": {
    "colab_type": "text",
    "id": "l8_0KG5QzmYc"
   },
   "source": [
    "## Cuadratura de Gauss-Legendre para intervalo arbitrario\n",
    "\n",
    "El cambio de variable \n",
    "\n",
    "$$x = \\frac{b-a}{2}\\xi + \\frac{a+b}{2}\\,\\,\\,\\,\\,\\,\\,\\,\\,\\,\\rightarrow \\,\\,\\,\\,\\,\\,\\,\\,\\,\\, dx = \\frac{b-a}{2}d\\xi$$\n",
    "permite cambiar los limites de integración:\n",
    "\n",
    "\n",
    "$$\\int_a^b f(x)\\,dx = \\frac{b-a}{2} \\int_{-1}^1 f\\left(\\frac{b-a}{2}\\xi + \\frac{a+b}{2}\\right)\\,d\\xi.$$\n",
    "\n",
    "Para el caso discreto resulta\n",
    "\n",
    "$$\\int_a^b f(x)\\,dx \\approx \\frac{b-a}{2} \\sum_{i=1}^m w_i f\\left(\\frac{b-a}{2}\\xi_i + \\frac{a+b}{2}\\right)$$\n",
    "\n",
    "$m$ es el grado del método de cuadratura de Gauss\n"
   ]
  },
  {
   "cell_type": "code",
   "execution_count": 7,
   "metadata": {
    "colab": {},
    "colab_type": "code",
    "id": "5sJb1lw9b5Hu"
   },
   "outputs": [
    {
     "data": {
      "text/plain": [
       "333.33333333333337"
      ]
     },
     "execution_count": 7,
     "metadata": {},
     "output_type": "execute_result"
    }
   ],
   "source": [
    "def gauss_legendre_integrate_ab(f, X, W, a, b):\n",
    "    c1 = 0.5*(b-a)\n",
    "    c2 = 0.5*(a+b)\n",
    "    return c1*np.sum(W*f(c1*X + c2))\n",
    "\n",
    "gauss_legendre_integrate_ab(f, X, W, x_ini, x_fin)"
   ]
  },
  {
   "cell_type": "markdown",
   "metadata": {
    "colab_type": "text",
    "id": "oyzpC0Pm_u1O"
   },
   "source": [
    "## Cuadratura de Gauss-Legendre compuesta\n",
    "\n",
    "$$\\int_a^b f(x)\\,dx \\approx \\sum_{j = 0}^{n-1}\\left[\\frac{x_{j+1}-x_j}{2} \\sum_{i=1}^m w_i f\\left(\\frac{x_{j+1}-x_j}{2}\\xi_i + \\frac{x_{j}+x_{j+1}}{2}\\right)\\right]$$\n",
    "\n"
   ]
  },
  {
   "cell_type": "code",
   "execution_count": 8,
   "metadata": {
    "colab": {
     "base_uri": "https://localhost:8080/",
     "height": 35
    },
    "colab_type": "code",
    "id": "1wHc3zCfCsIM",
    "outputId": "cccf0b62-8f6a-4402-caa9-f066759aa61e"
   },
   "outputs": [],
   "source": [
    "def gauss_legendre_integrate_trozos(fu, x_ini, x_fin, X, W, nodos):\n",
    "    x,h = np.linspace(x_ini, x_fin, num=nodos-1, retstep=True, endpoint=False)"
   ]
  }
 ],
 "metadata": {
  "colab": {
   "collapsed_sections": [],
   "name": "Copia de integracion_numerica.ipynb",
   "provenance": [],
   "toc_visible": true
  },
  "kernelspec": {
   "display_name": "Python 3",
   "language": "python",
   "name": "python3"
  },
  "language_info": {
   "codemirror_mode": {
    "name": "ipython",
    "version": 3
   },
   "file_extension": ".py",
   "mimetype": "text/x-python",
   "name": "python",
   "nbconvert_exporter": "python",
   "pygments_lexer": "ipython3",
   "version": "3.8.3"
  }
 },
 "nbformat": 4,
 "nbformat_minor": 1
}
