{
 "cells": [
  {
   "cell_type": "markdown",
   "metadata": {
    "colab_type": "text",
    "id": "arTh2Y80A6x5"
   },
   "source": [
    "### Maria Sofia Alvarez Lopez"
   ]
  },
  {
   "cell_type": "code",
   "execution_count": 1,
   "metadata": {},
   "outputs": [],
   "source": [
    "import numpy as np\n",
    "import matplotlib.pyplot as plt"
   ]
  },
  {
   "cell_type": "markdown",
   "metadata": {},
   "source": [
    "## Integración con Metropolis-Hastings\n",
    "\n",
    "Dada una variable aleatoria $X$ con densidad de probabilidad $p_0(x)$ con $x \\in S$,  la\n",
    "esperanza matemática $E [g (X)]$ se define como\n",
    "\n",
    "$$I = E[g(X)] = \\int_S g(x)p_0(x)dx$$\n",
    "\n",
    "Entonces, para encontrar el valor de una integral $I = \\int f(x)dx$ cualquiera la separamos $f(x)$ en un termino $g(x)$ y otro $p_0(x)$, luego con el metodo de Metropolis-Hastings buscamos el vector aleatorio $X$ que posea densidad de probabilidad $p_0(x)$ y con esto calculamos la esperanza $E [g (X)]$ que es aproximadamente igual a\n",
    "$$I = E [g (X)] \\approx \\frac{1}{N}\\sum_{i = 1}^{N}g(X)$$"
   ]
  },
  {
   "cell_type": "markdown",
   "metadata": {
    "colab_type": "text",
    "id": "OZlrVSXxc9WI"
   },
   "source": [
    "**Ejemplo:** Use Metropolis-Hasting para estimar el valor de la integral\n",
    "\n",
    "$$I = \\int_{-\\infty}^{\\infty} \\int_{-\\infty}^{\\infty}  x\\frac{e^{-\\frac{1}{2}(-8x-8y+x^2y^2+x^2+y^2)}}{C}dxdy$$\n",
    "\n",
    "donde $C\\approx 20216.336$"
   ]
  },
  {
   "cell_type": "code",
   "execution_count": 2,
   "metadata": {
    "colab": {},
    "colab_type": "code",
    "id": "SxhIcDCIBjDv"
   },
   "outputs": [
    {
     "data": {
      "text/plain": [
       "(1.8304301325919052, 0.010554673276271702)"
      ]
     },
     "execution_count": 2,
     "metadata": {},
     "output_type": "execute_result"
    }
   ],
   "source": [
    "def integracion_metropolis(p, g, dimension, steps):\n",
    "    v_gx = np.zeros(steps)\n",
    "    old_x = np.ones(dimension)\n",
    "    old_prob = p(old_x)\n",
    "    \n",
    "    for i in range(steps):\n",
    "        #Uso una gaussiana para que converja mas rapido\n",
    "        new_x = np.random.normal(old_x, 0.5, dimension)\n",
    "        new_prob = p(new_x)\n",
    "        aceptacion = new_prob/old_prob\n",
    "        if aceptacion > np.random.rand():\n",
    "            old_x = new_x\n",
    "            old_prob = new_prob\n",
    "        v_gx[i] = g(old_x)\n",
    "        \n",
    "    return np.mean(v_gx), 2*np.std(v_gx)/np.sqrt(steps)\n",
    "            \n",
    "def g(x):\n",
    "    return x[0]\n",
    "\n",
    "def p(x):\n",
    "    xp = x**2\n",
    "    return np.exp(-(-8*np.sum(x) + np.prod(xp) + np.sum(xp))*0.5)\n",
    "\n",
    "integracion_metropolis(p, g, 2, 100000)"
   ]
  },
  {
   "cell_type": "markdown",
   "metadata": {
    "colab_type": "text",
    "id": "8z0llpGuA5xq"
   },
   "source": [
    "## Estimación de parámetros con Metropolis-Hastings\n",
    "\n",
    "Suponga que tiene datos $D (t_i)$,  (ya sea un escalar o un vector) en puntos discretos $t_i$ y un modelo propuesto, que produce una serie $y (t | \\theta)$, donde $\\theta$ representa un conjunto de parámetros libres que cambia la función propuesta.\n",
    "\n",
    "Lo primero que debe hacer es elegir una función de error. El más común es la suma de errores cuadrados dada por\n",
    "\n",
    "$$\\chi ^ 2 = \\sum_i \\frac {(D (t_i) -y (t_i | \\theta)) ^ 2} {2 \\sigma ^ 2}$$\n",
    "\n",
    "donde $\\sigma$ es una estimación del error de los datos. Usualmente, puede utilizar la incertidumbre experimental o simplemente adivinar.\n",
    "\n",
    "Lo que se desea es que la probabilidad $P$ sea máxima cuando $\\chi^2$ sea mínimo. Esto lo podemos plasmar por ejemplo así\n",
    "\n",
    "$$\n",
    "P(D | \\theta) = e^{- \\chi ^ 2}\n",
    "$$"
   ]
  },
  {
   "cell_type": "code",
   "execution_count": 3,
   "metadata": {
    "colab": {},
    "colab_type": "code",
    "id": "EG11ivoaVwt1"
   },
   "outputs": [],
   "source": [
    "def metropolis_fit(p, t, D, model, theta, steps):\n",
    "    dimension = len(theta)\n",
    "    muestras = np.zeros([dimension, steps])\n",
    "    alturas = np.zeros([dimension, steps])\n",
    "    old_theta = theta\n",
    "    old_prob = p(t, D, model, old_theta)\n",
    "    \n",
    "    for i in range(steps):\n",
    "        new_theta = old_theta + np.random.normal(0, 0.5, dimension)\n",
    "        new_prob = p(t, D, model, new_theta)\n",
    "        aceptacion = new_prob / old_prob\n",
    "        if aceptacion > np.random.rand():\n",
    "            muestras[:,i] = new_theta\n",
    "            alturas[:, i] = new_prob\n",
    "            old_theta = new_theta\n",
    "            old_prob = new_prob\n",
    "        else:\n",
    "            muestras[:,i] = old_theta\n",
    "            alturas[:,i] = old_prob\n",
    "            \n",
    "    return muestras, alturas\n",
    "        \n",
    "\n",
    "def model(t, c):\n",
    "    return c[0]*t + c[1]\n",
    "\n",
    "def p(t, D, model, theta):\n",
    "    sigma = 1\n",
    "    chi2 = np.sum((D - model(t,theta))**2)/(2*sigma**2)\n",
    "    return np.exp(-chi2)\n",
    "\n",
    "\n",
    "\n",
    "t = np.linspace(0,10,11)\n",
    "D = 0.1*t + 7\n",
    "dimension = 2\n",
    "steps = 100000\n",
    "theta = np.ones(dimension)\n",
    "samples, alturas = metropolis_fit(p, t, D, model, theta, steps)"
   ]
  },
  {
   "cell_type": "code",
   "execution_count": 4,
   "metadata": {},
   "outputs": [
    {
     "name": "stdout",
     "output_type": "stream",
     "text": [
      "c1 otro: 7.004395255408195\n",
      "c1:  6.994817621652586\n"
     ]
    },
    {
     "data": {
      "image/png": "[encoded data removed]",
      "text/plain": [
       "<Figure size 432x288 with 1 Axes>"
      ]
     },
     "metadata": {
      "needs_background": "light"
     },
     "output_type": "display_data"
    }
   ],
   "source": [
    "d=1\n",
    "indi_max = np.argmax(alturas[d,:])\n",
    "print('c1 otro:', samples[d, indi_max])\n",
    "print('c1: ', np.mean(samples[d,1000:]))\n",
    "plt.hist(samples[d,1000:], bins=50)\n",
    "plt.show()"
   ]
  },
  {
   "cell_type": "code",
   "execution_count": 5,
   "metadata": {},
   "outputs": [
    {
     "name": "stdout",
     "output_type": "stream",
     "text": [
      "c0 otro: 0.09865001122073921\n",
      "c0:  0.10081956727331633\n"
     ]
    },
    {
     "data": {
      "image/png": "[encoded data removed]",
      "text/plain": [
       "<Figure size 432x288 with 1 Axes>"
      ]
     },
     "metadata": {
      "needs_background": "light"
     },
     "output_type": "display_data"
    }
   ],
   "source": [
    "d = 0\n",
    "indi_max = np.argmax(alturas[d,:])\n",
    "print('c0 otro:', samples[d, indi_max])\n",
    "print('c0: ', np.mean(samples[d,1000:]))\n",
    "plt.hist(samples[d,1000:], bins=50)\n",
    "plt.show()"
   ]
  },
  {
   "cell_type": "markdown",
   "metadata": {
    "colab_type": "text",
    "id": "anPwIo4Tlrhi"
   },
   "source": [
    "## C ++"
   ]
  },
  {
   "cell_type": "code",
   "execution_count": null,
   "metadata": {
    "colab": {},
    "colab_type": "code",
    "id": "t0cnfYimj3h3"
   },
   "outputs": [],
   "source": []
  }
 ],
 "metadata": {
  "colab": {
   "collapsed_sections": [],
   "name": "metropolis_integracion_y_fiting_b.ipynb",
   "provenance": []
  },
  "kernelspec": {
   "display_name": "Python 3",
   "language": "python",
   "name": "python3"
  },
  "language_info": {
   "codemirror_mode": {
    "name": "ipython",
    "version": 3
   },
   "file_extension": ".py",
   "mimetype": "text/x-python",
   "name": "python",
   "nbconvert_exporter": "python",
   "pygments_lexer": "ipython3",
   "version": "3.8.3"
  }
 },
 "nbformat": 4,
 "nbformat_minor": 1
}
