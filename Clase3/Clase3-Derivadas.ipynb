{
 "cells": [
  {
   "cell_type": "code",
   "execution_count": 35,
   "metadata": {},
   "outputs": [],
   "source": [
    "import numpy as np\n",
    "import pandas as pd\n",
    "import matplotlib.pyplot as plt"
   ]
  },
  {
   "cell_type": "markdown",
   "metadata": {},
   "source": [
    "<h1>Derivadas</h1>"
   ]
  },
  {
   "cell_type": "markdown",
   "metadata": {},
   "source": [
    "<p>Para calcular una derivada,</p><br />\n",
    "$f'(x) = \\frac{f(x+h) - f(x)}{h}$\n",
    "<p>Por lo general, tenemos más exactitud con la centrada:</p><br />\n",
    "$f'(x) = \\frac{f(x+h) - f(x-h)}{2h}$"
   ]
  },
  {
   "cell_type": "code",
   "execution_count": 15,
   "metadata": {},
   "outputs": [],
   "source": [
    "def f(x):\n",
    "    return x**3\n",
    "\n",
    "def df_num(x, h):\n",
    "    return ( f(x+h) - f(x) )/h\n",
    "\n",
    "def df_num_centrada(x, h):\n",
    "    return ( f(x+h) - f(x-h) )/(2*h)\n",
    "\n",
    "def df(x):\n",
    "    return 3*(x**2)"
   ]
  },
  {
   "cell_type": "code",
   "execution_count": 16,
   "metadata": {},
   "outputs": [
    {
     "name": "stdout",
     "output_type": "stream",
     "text": [
      "Derivada numérica:  48.01200100001779\n",
      "Derivada numérica centrada:  48.000001000005454\n",
      "Derivada analítica:  48\n"
     ]
    }
   ],
   "source": [
    "h = 0.001\n",
    "x=4\n",
    "print('Derivada numérica: ', df_num(x, h))\n",
    "print('Derivada numérica centrada: ', df_num_centrada(x,h))\n",
    "print('Derivada analítica: ', df(x))"
   ]
  },
  {
   "cell_type": "markdown",
   "metadata": {},
   "source": [
    "<h3>Derivadas de orden superior</h3>\n",
    "<h5>Derivadas de segundo orden:</h5>"
   ]
  },
  {
   "cell_type": "markdown",
   "metadata": {},
   "source": [
    "<p>Para calcular una derivada de segundo orden,</p><br />\n",
    "$f''(x) = \\frac{f(x+2h) - 2f(x+h) + f(x)}{h^{2}}$\n",
    "<p>Por lo general, tenemos más exactitud con la centrada:</p><br />\n",
    "$f''(x) = \\frac{f(x+h) - 2f(x) + f(x-h)}{h^{2}}$"
   ]
  },
  {
   "cell_type": "code",
   "execution_count": 18,
   "metadata": {},
   "outputs": [],
   "source": [
    "def d2f_num(x,h):\n",
    "    return ( f(x+h) - 2*f(x) + f(x-h) )/(h**2)\n",
    "\n",
    "def df2(x):\n",
    "    return 6*x"
   ]
  },
  {
   "cell_type": "code",
   "execution_count": 19,
   "metadata": {},
   "outputs": [
    {
     "name": "stdout",
     "output_type": "stream",
     "text": [
      "Segunda derivada numérica:  24.000000024670953\n",
      "Segunda derivada analítica:  24\n"
     ]
    }
   ],
   "source": [
    "print('Segunda derivada numérica: ', d2f_num(x, h))\n",
    "print('Segunda derivada analítica: ', df2(x))"
   ]
  },
  {
   "cell_type": "markdown",
   "metadata": {},
   "source": [
    "<h3>Derivadas Simbólicas</h3>"
   ]
  },
  {
   "cell_type": "code",
   "execution_count": 22,
   "metadata": {},
   "outputs": [],
   "source": [
    "from sympy import *"
   ]
  },
  {
   "cell_type": "code",
   "execution_count": 29,
   "metadata": {},
   "outputs": [
    {
     "name": "stdout",
     "output_type": "stream",
     "text": [
      "3*x**2\n",
      "3*x**2\n"
     ]
    }
   ],
   "source": [
    "x = Symbol('x')\n",
    "y = x**3\n",
    "yprime = y.diff(x)\n",
    "print(yprime)\n",
    "\n",
    "df = lambdify(x, yprime, 'numpy')\n",
    "print(df(x))"
   ]
  },
  {
   "cell_type": "markdown",
   "metadata": {},
   "source": [
    "<h3>Método de Newton Raphson</h3>"
   ]
  },
  {
   "cell_type": "markdown",
   "metadata": {},
   "source": [
    "<p>Tenemos la ecuación de la recta:</p><br />\n",
    "$y = mx+b$\n",
    "<p>Para este caso,</p><br />\n",
    "$y = f'(x_{0})(x-x_{0}) + f(x_{0})$\n",
    "<p>Despejando,</p><br />\n",
    "$x = x_{0} - \\frac{f(x_{0})}{f'(x_{0})}$"
   ]
  },
  {
   "cell_type": "code",
   "execution_count": 46,
   "metadata": {},
   "outputs": [],
   "source": [
    "def f(x):\n",
    "    return (x+2)*(x-2)*(x-4)"
   ]
  },
  {
   "cell_type": "code",
   "execution_count": 56,
   "metadata": {},
   "outputs": [
    {
     "name": "stdout",
     "output_type": "stream",
     "text": [
      "Escriba el número de iteraciones: 8\n"
     ]
    }
   ],
   "source": [
    "def df(x):\n",
    "    return 3*x**2-8*x-4\n",
    "\n",
    "iteraciones = int(input(\"Escriba el número de iteraciones: \"))\n",
    "#Toca ubicarse en puntos un poquito cerca\n",
    "x0 = np.array([-2.3, 1.9, 4.1])\n",
    "for i in range(iteraciones):\n",
    "    x = x0 - f(x0)/df(x0) #metodo de newton-raphson\n",
    "    x0 = x"
   ]
  },
  {
   "cell_type": "code",
   "execution_count": 57,
   "metadata": {},
   "outputs": [],
   "source": [
    "xe = np.linspace(-3.1, 5.7)"
   ]
  },
  {
   "cell_type": "code",
   "execution_count": 58,
   "metadata": {},
   "outputs": [
    {
     "name": "stdout",
     "output_type": "stream",
     "text": [
      "Las raices son:  [-2.  2.  4.]\n"
     ]
    },
    {
     "data": {
      "image/png": "[encoded data removed]",
      "text/plain": [
       "<Figure size 432x288 with 1 Axes>"
      ]
     },
     "metadata": {
      "needs_background": "light"
     },
     "output_type": "display_data"
    }
   ],
   "source": [
    "plt.axhline(y=0, color='red')\n",
    "plt.plot(xe, f(xe))\n",
    "plt.scatter(x[0], f(x[0]))\n",
    "plt.scatter(x[1], f(x[1]))\n",
    "plt.scatter(x[2], f(x[2]))\n",
    "print(\"Las raices son: \", x)\n",
    "plt.show()"
   ]
  },
  {
   "cell_type": "code",
   "execution_count": null,
   "metadata": {},
   "outputs": [],
   "source": []
  }
 ],
 "metadata": {
  "kernelspec": {
   "display_name": "Python 3",
   "language": "python",
   "name": "python3"
  },
  "language_info": {
   "codemirror_mode": {
    "name": "ipython",
    "version": 3
   },
   "file_extension": ".py",
   "mimetype": "text/x-python",
   "name": "python",
   "nbconvert_exporter": "python",
   "pygments_lexer": "ipython3",
   "version": "3.8.3"
  }
 },
 "nbformat": 4,
 "nbformat_minor": 4
}
